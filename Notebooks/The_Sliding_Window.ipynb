{
  "nbformat": 4,
  "nbformat_minor": 0,
  "metadata": {
    "colab": {
      "provenance": [],
      "gpuType": "T4"
    },
    "kernelspec": {
      "name": "python3",
      "display_name": "Python 3"
    },
    "language_info": {
      "name": "python"
    },
    "accelerator": "GPU"
  },
  "cells": [
    {
      "cell_type": "code",
      "source": [
        "import numpy as np\n",
        "from itertools import product\n",
        "from skimage import draw, transform\n",
        "\n",
        "# The circle function computes the pixel coordinates of a circle's perimeter centered in an array of given size,\n",
        "# ...optionally with a reduced radius.\n",
        "def circle(size, val=None, r_shrink=0):\n",
        "  circle = np.zeros([size[0] + 1, size[1] + 1])\n",
        "  rr, cc = draw.circle_perimeter(\n",
        "      size[0]//2, size[1]//2,\n",
        "      radius = size[0]//2 - r_shrink,\n",
        "      shape = [size[0] + 1, size[1] + 1]\n",
        "  )\n",
        "\n",
        "  if val is None:\n",
        "    circle[rr, cc] = np.random.uniform(size=circle.shape)[rr, cc]\n",
        "  else:\n",
        "    circle[rr, cc] = val\n",
        "  circle = transform.resize(circle, size, order=0)\n",
        "  return circle\n",
        "\n",
        "def show_kernel(kernel, label=True, digits=None, text_size=28):\n",
        "  # Format kernel\n",
        "  kernel = np.array(kernel)\n",
        "  if digits is not None:\n",
        "    kernel = kernel.round(digits)\n",
        "\n",
        "  # Plot kernel\n",
        "  cmap = plt.get_cmap('Blues_r')\n",
        "  plt.imshow(kernel, cmap=cmap)\n",
        "  rows, cols = kernel.shape\n",
        "  thresh = (kernel.max() + kernel.min())/2\n",
        "  ####\n",
        "  if label:\n",
        "    for i, j in product(range(rows), range(cols)):\n",
        "      val = kernel[i, j]\n",
        "      color = cmap(0) if val > thresh else cmap(255)\n",
        "      plt.text(j, i, val,\n",
        "               color=color, size=text_size,\n",
        "               horizontalalignment='center', verticalalignment='center')\n",
        "\n",
        "  plt.xticks([])\n",
        "  plt.yticks([])\n",
        "\n",
        "def show_extraction(image, kernel, conv_stride=1, conv_padding='valid',\n",
        "                      activation='relu', pool_size=2, pool_stride=2,\n",
        "                      pool_padding='same', figsize=(10, 10), subplot_shape=(2, 2),\n",
        "                      ops=['Input', 'Filter', 'Detect', 'Condense'], gamma=1.0):\n",
        "\n",
        "  # Create layers\n",
        "  model = tf.keras.Sequential([\n",
        "      tf.keras.layers.Conv2D(\n",
        "          filters=1,\n",
        "          kernel_size=kernel.shape,\n",
        "          strides=conv_stride,\n",
        "          padding=conv_padding,\n",
        "          use_bias=False,\n",
        "          input_shape=image.shape\n",
        "      ),\n",
        "      tf.keras.layers.Activation(activation),\n",
        "      tf.keras.layers.MaxPool2D(\n",
        "          pool_size=pool_size,\n",
        "          strides=pool_stride,\n",
        "          padding=pool_padding\n",
        "      )\n",
        "  ])\n",
        "\n",
        "  layer_filter, layer_detect, layer_condense = model.layers\n",
        "  kernel = tf.reshape(kernel, [*kernel.shape, 1, 1])\n",
        "  layer_filter.set_weights([kernel])\n",
        "\n",
        "  # Format for TF\n",
        "  image = tf.expand_dims(image, axis=0)\n",
        "  image = tf.image.convert_image_dtype(image, dtype=tf.float32)\n",
        "\n",
        "  # Extract features\n",
        "  image_filter = layer_filter(image)\n",
        "  image_detect = layer_detect(image_filter)\n",
        "  image_condense = layer_condense(image_detect)\n",
        "\n",
        "  # This snippet selectively adds image variants and their brightness/scaling values\n",
        "  # ...to a dictionary based on requested operations.\n",
        "  images = {}\n",
        "  if 'Input' in ops:\n",
        "    images.update({'Input': (image, 1.0)})\n",
        "  if 'Filter' in ops:\n",
        "    images.update({'Filter': (image_filter, 1.0)})\n",
        "  if 'Detect' in ops:\n",
        "    images.update({'Detect': (image_detect, gamma)})\n",
        "  if 'Condense' in ops:\n",
        "    images.update({'Condense': (image_condense, gamma)})\n",
        "\n",
        "  # Plot\n",
        "  plt.figure(figsize=figsize)\n",
        "  for i, title in enumerate(ops):\n",
        "    image, gamma = images[title]\n",
        "    plt.subplot(*subplot_shape, i+1)\n",
        "    plt.imshow(tf.image.adjust_gamma(tf.squeeze(image), gamma))\n",
        "    plt.axis('off')\n",
        "    plt.title(title)\n",
        "\n"
      ],
      "metadata": {
        "id": "6sDNmPuIMkWa"
      },
      "execution_count": 1,
      "outputs": []
    },
    {
      "cell_type": "code",
      "source": [
        "import tensorflow as tf\n",
        "from tensorflow import keras\n",
        "from tensorflow.keras import layers\n",
        "\n",
        "image = tf.io.read_file(\"/content/car_illus.jpg\")\n",
        "image = tf.io.decode_jpeg(image)"
      ],
      "metadata": {
        "id": "dkeX5xxJls6_"
      },
      "execution_count": 3,
      "outputs": []
    },
    {
      "cell_type": "markdown",
      "source": [
        "## Introduction"
      ],
      "metadata": {
        "id": "xQojAAdk1hc9"
      }
    },
    {
      "cell_type": "code",
      "source": [
        "model = keras.Sequential([\n",
        "    layers.Conv2D(filters=64, kernel_size=3, strides=1, padding='same', activation='relu'),\n",
        "    layers.MaxPool2D(pool_size=2, strides=1, padding='same')\n",
        "])"
      ],
      "metadata": {
        "id": "cpgXYWIp1Tns"
      },
      "execution_count": 4,
      "outputs": []
    },
    {
      "cell_type": "markdown",
      "source": [
        "## Exploring Sliding Windows"
      ],
      "metadata": {
        "id": "hsF800ZQ8voj"
      }
    },
    {
      "cell_type": "code",
      "execution_count": 5,
      "metadata": {
        "colab": {
          "base_uri": "https://localhost:8080/",
          "height": 487
        },
        "id": "Yu1wTyBOhgOe",
        "outputId": "7a39a813-f069-4b3e-ed0e-50f9f3d08fa4"
      },
      "outputs": [
        {
          "output_type": "display_data",
          "data": {
            "text/plain": [
              "<Figure size 640x480 with 1 Axes>"
            ],
            "image/png": "[encoded data removed]"
          },
          "metadata": {}
        }
      ],
      "source": [
        "import tensorflow as tf\n",
        "import matplotlib.pyplot as plt\n",
        "\n",
        "plt.rc('figure', autolayout=True)\n",
        "plt.rc('axes', labelweight='bold', labelsize='large',\n",
        "       titleweight='bold', titlesize=18, titlepad=10)\n",
        "plt.rc('image', cmap='magma')\n",
        "\n",
        "image = circle([64, 64], val=1.0, r_shrink=3)\n",
        "image=tf.reshape(image, [*image.shape, 1])\n",
        "kernel = tf.constant([\n",
        "    [-1, -2, -1],\n",
        "    [0, 0, 0],\n",
        "    [1, 2, 1],\n",
        "])\n",
        "show_kernel(kernel)"
      ]
    },
    {
      "cell_type": "code",
      "source": [
        "show_extraction(\n",
        "    image, kernel,\n",
        "\n",
        "    # Window parameters\n",
        "    conv_stride=1,\n",
        "    pool_size=2,\n",
        "    pool_stride=2,\n",
        "    subplot_shape=(1, 4),\n",
        "    figsize=(14, 6)\n",
        ")"
      ],
      "metadata": {
        "id": "Yl0tad3dkCpc",
        "colab": {
          "base_uri": "https://localhost:8080/",
          "height": 456
        },
        "outputId": "356a2007-909d-499f-9d79-b7e497bb7d26"
      },
      "execution_count": 6,
      "outputs": [
        {
          "output_type": "stream",
          "name": "stderr",
          "text": [
            "/usr/local/lib/python3.11/dist-packages/keras/src/layers/convolutional/base_conv.py:107: UserWarning: Do not pass an `input_shape`/`input_dim` argument to a layer. When using Sequential models, prefer using an `Input(shape)` object as the first layer in the model instead.\n",
            "  super().__init__(activity_regularizer=activity_regularizer, **kwargs)\n"
          ]
        },
        {
          "output_type": "display_data",
          "data": {
            "text/plain": [
              "<Figure size 1400x600 with 4 Axes>"
            ],
            "image/png": "[encoded data removed]"
          },
          "metadata": {}
        }
      ]
    },
    {
      "cell_type": "markdown",
      "source": [
        "# WITH conv_stride=3"
      ],
      "metadata": {
        "id": "-BU6lXSSwjD_"
      }
    },
    {
      "cell_type": "code",
      "source": [
        "show_extraction(\n",
        "    image, kernel,\n",
        "    conv_stride=3,\n",
        "    pool_size=2,\n",
        "    pool_stride=2,\n",
        "    subplot_shape=(1, 4),\n",
        "    figsize=(14, 6)\n",
        ")"
      ],
      "metadata": {
        "id": "EfCQl3CMwpHP",
        "colab": {
          "base_uri": "https://localhost:8080/",
          "height": 401
        },
        "outputId": "6b277836-1a54-423b-9442-4e9171d7ddc8"
      },
      "execution_count": 7,
      "outputs": [
        {
          "output_type": "display_data",
          "data": {
            "text/plain": [
              "<Figure size 1400x600 with 4 Axes>"
            ],
            "image/png": "[encoded data removed]"
          },
          "metadata": {}
        }
      ]
    },
    {
      "cell_type": "code",
      "source": [],
      "metadata": {
        "id": "LrsCHZUr1dDz"
      },
      "execution_count": null,
      "outputs": []
    }
  ]
}